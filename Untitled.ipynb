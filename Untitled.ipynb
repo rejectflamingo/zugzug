{
 "cells": [
  {
   "cell_type": "code",
   "execution_count": 3,
   "metadata": {},
   "outputs": [],
   "source": [
    "import json\n",
    "import requests\n",
    "import secrets\n",
    "\n",
    "CLIENT_ID = '5255094445a7640e49ad434658ad56d4'\n",
    "CLIENT_SECRET = '3b1f4d72199eaa0c37568f5ebe6e8a4518e24b54399647ec1ba6d4393d097dea'\n"
   ]
  },
  {
   "cell_type": "code",
   "execution_count": 4,
   "metadata": {},
   "outputs": [],
   "source": [
    "# 1. Generate a new Code Verifier / Code Challenge.\n",
    "def get_new_code_verifier() -> str:\n",
    "    token = secrets.token_urlsafe(100)\n",
    "    return token[:128]"
   ]
  },
  {
   "cell_type": "code",
   "execution_count": null,
   "metadata": {},
   "outputs": [],
   "source": [
    "# 2. Print the URL needed to authorise your application.\n",
    "def print_new_authorisation_url(code_challenge: str):\n",
    "    global CLIENT_ID\n",
    "\n",
    "    url = f'https://myanimelist.net/v1/oauth2/authorize?response_type=code&client_id={CLIENT_ID}&code_challenge={code_challenge}'\n",
    "    print(f'Authorise your application by clicking here: {url}\\n')\n"
   ]
  },
  {
   "cell_type": "code",
   "execution_count": null,
   "metadata": {},
   "outputs": [],
   "source": [
    "# 3. Once you've authorised your application, you will be redirected to the webpage you've\n",
    "#    specified in the API panel. The URL will contain a parameter named \"code\" (the Authorisation\n",
    "#    Code). You need to feed that code to the application.\n",
    "def generate_new_token(authorisation_code: str, code_verifier: str) -> dict:\n",
    "    global CLIENT_ID, CLIENT_SECRET\n",
    "\n",
    "    url = 'https://myanimelist.net/v1/oauth2/token'\n",
    "    data = {\n",
    "        'client_id': CLIENT_ID,\n",
    "        'client_secret': CLIENT_SECRET,\n",
    "        'code': authorisation_code,\n",
    "        'code_verifier': code_verifier,\n",
    "        'grant_type': 'authorization_code'\n",
    "    }\n",
    "\n",
    "    response = requests.post(url, data)\n",
    "    response.raise_for_status()  # Check whether the requests contains errors\n",
    "\n",
    "    token = response.json()\n",
    "    response.close()\n",
    "    print('Token generated successfully!')\n",
    "\n",
    "    with open('token.json', 'w') as file:\n",
    "        json.dump(token, file, indent = 4)\n",
    "        print('Token saved in \"token.json\"')\n",
    "\n",
    "    return token\n"
   ]
  },
  {
   "cell_type": "code",
   "execution_count": null,
   "metadata": {},
   "outputs": [],
   "source": [
    "# 4. Test the API by requesting your profile information\n",
    "def print_user_info(access_token: str):\n",
    "    url = 'https://api.myanimelist.net/v2/users/@me'\n",
    "    response = requests.get(url, headers = {\n",
    "        'Authorization': f'Bearer {access_token}'\n",
    "        })\n",
    "    \n",
    "    response.raise_for_status()\n",
    "    user = response.json()\n",
    "    response.close()\n",
    "\n",
    "    print(f\"\\n>>> Greetings {user['name']}! <<<\")\n",
    "\n",
    "\n",
    "if __name__ == '__main__':\n",
    "    code_verifier = code_challenge = get_new_code_verifier()\n",
    "    print_new_authorisation_url(code_challenge)\n",
    "\n",
    "    authorisation_code = input('Copy-paste the Authorisation Code: ').strip()\n",
    "    token = generate_new_token(authorisation_code, code_verifier)\n",
    "\n",
    "    print_user_info(token['access_token'])\n"
   ]
  }
 ],
 "metadata": {
  "kernelspec": {
   "display_name": "Python 3",
   "language": "python",
   "name": "python3"
  },
  "language_info": {
   "codemirror_mode": {
    "name": "ipython",
    "version": 3
   },
   "file_extension": ".py",
   "mimetype": "text/x-python",
   "name": "python",
   "nbconvert_exporter": "python",
   "pygments_lexer": "ipython3",
   "version": "3.7.6"
  }
 },
 "nbformat": 4,
 "nbformat_minor": 4
}
